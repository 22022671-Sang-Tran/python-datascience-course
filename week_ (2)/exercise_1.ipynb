{
 "cells": [
  {
   "attachments": {},
   "cell_type": "markdown",
   "metadata": {
    "pycharm": {
     "name": "#%% md\n"
    }
   },
   "source": [
    "# Excercise for basic python programming"
   ]
  },
  {
   "attachments": {},
   "cell_type": "markdown",
   "metadata": {},
   "source": [
    "1. Write a function that takes a list of numbers and returns the cumulative sum; that is, a new list where the ith element is the sum of the first i + 1 elements from the original list. For example, the cumulative sum of [1, 2, 3] is [1, 3, 6]."
   ]
  },
  {
   "cell_type": "code",
   "execution_count": 11,
   "metadata": {
    "ExecuteTime": {
     "end_time": "2023-09-11T14:28:58.810016100Z",
     "start_time": "2023-09-11T14:28:58.781038200Z"
    }
   },
   "outputs": [],
   "source": [
    "def cum_sum(arr):\n",
    "    for i in range(1, len(arr)):\n",
    "        arr[i] += arr[i-1]\n",
    "    return arr"
   ]
  },
  {
   "cell_type": "code",
   "execution_count": 10,
   "metadata": {
    "ExecuteTime": {
     "end_time": "2023-09-11T14:28:54.358914100Z",
     "start_time": "2023-09-11T14:28:54.340299800Z"
    }
   },
   "outputs": [],
   "source": [
    "assert cum_sum([1, 2, 3, 4]) == [1, 3, 6, 10]\n",
    "assert cum_sum([1, 1, 1, 1, 1]) == [1, 2, 3, 4, 5]\n",
    "assert cum_sum([1, 2, 3, 4, 5, 6]) == [1, 3, 6, 10, 15, 21]"
   ]
  },
  {
   "attachments": {},
   "cell_type": "markdown",
   "metadata": {},
   "source": [
    "2. Write a function that takes a list of numbers and returns the middle element. If the list has an even number of elements, your function should return the average of the two middle elements."
   ]
  },
  {
   "cell_type": "code",
   "execution_count": 21,
   "metadata": {
    "ExecuteTime": {
     "end_time": "2023-09-11T14:39:37.435668300Z",
     "start_time": "2023-09-11T14:39:37.412678200Z"
    }
   },
   "outputs": [],
   "source": [
    "def middle_element(arr):\n",
    "    if len(arr)%2==1 :\n",
    "        ans = arr[(len(arr)-1)//2]\n",
    "    else:\n",
    "        ans = (arr[(len(arr))//2] + arr[(len(arr)-2)//2])/2\n",
    "    return ans"
   ]
  },
  {
   "cell_type": "code",
   "execution_count": 22,
   "metadata": {
    "ExecuteTime": {
     "end_time": "2023-09-11T14:39:38.052792100Z",
     "start_time": "2023-09-11T14:39:38.044797Z"
    }
   },
   "outputs": [],
   "source": [
    "assert middle_element([5, 2, -10, -4, 4, 5]) == -7.0\n",
    "assert middle_element([1, 2, 3, 4]) == 2.5\n",
    "assert middle_element([1, 300, 2, 200, 1]) == 2"
   ]
  },
  {
   "attachments": {},
   "cell_type": "markdown",
   "metadata": {},
   "source": [
    "3. dot product of two vectors, i.e. $x \\cdot y = \\sum_{i=1}^n x_i y_i$, where $x$ and $y$ are two vectors of length $n$, write a function that takes two lists of numbers of the same length and returns their dot product."
   ]
  },
  {
   "cell_type": "code",
   "execution_count": 23,
   "metadata": {
    "ExecuteTime": {
     "end_time": "2023-09-11T14:40:48.653910200Z",
     "start_time": "2023-09-11T14:40:48.629924300Z"
    }
   },
   "outputs": [],
   "source": [
    "def dot_product(arr1, arr2):\n",
    "    ans = 0\n",
    "    for i in range(len(arr1)):\n",
    "        ans += arr1[i] * arr2[i]\n",
    "    return ans"
   ]
  },
  {
   "cell_type": "code",
   "execution_count": 24,
   "metadata": {
    "ExecuteTime": {
     "end_time": "2023-09-11T14:40:49.488993400Z",
     "start_time": "2023-09-11T14:40:49.203909700Z"
    }
   },
   "outputs": [],
   "source": [
    "assert dot_product([1, 1], [1, 1]) == 2\n",
    "assert dot_product([1, 2], [1, 4]) == 9\n",
    "assert dot_product([0, 1, -1], [1, 0, -1]) == 1"
   ]
  },
  {
   "cell_type": "code",
   "execution_count": null,
   "outputs": [],
   "source": [],
   "metadata": {
    "collapsed": false
   }
  }
 ],
 "metadata": {
  "kernelspec": {
   "display_name": "Python 3",
   "language": "python",
   "name": "python3"
  },
  "language_info": {
   "codemirror_mode": {
    "name": "ipython",
    "version": 3
   },
   "file_extension": ".py",
   "mimetype": "text/x-python",
   "name": "python",
   "nbconvert_exporter": "python",
   "pygments_lexer": "ipython3",
   "version": "3.8.5"
  }
 },
 "nbformat": 4,
 "nbformat_minor": 4
}
